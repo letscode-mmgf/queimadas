{
 "cells": [
  {
   "cell_type": "code",
   "execution_count": null,
   "metadata": {},
   "outputs": [],
   "source": [
    "import pandas as pd\n",
    "import numpy as np\n",
    "import matplotlib.pyplot as plt\n",
    "import seaborn as sns\n",
    "import plotly.express as px\n",
    "from tratamento import dataset\n",
    "from funcoes import personalizacao"
   ]
  },
  {
   "cell_type": "code",
   "execution_count": null,
   "metadata": {},
   "outputs": [],
   "source": [
    "df = dataset()\n",
    "df"
   ]
  },
  {
   "cell_type": "code",
   "execution_count": null,
   "metadata": {},
   "outputs": [],
   "source": [
    "# Agrupando o número de queimadas por estações do ano e achando a média.\n",
    "\n",
    "x = df.groupby('estacoes')[['number', 'estacoes']].mean()\n",
    "x\n"
   ]
  },
  {
   "cell_type": "code",
   "execution_count": null,
   "metadata": {},
   "outputs": [],
   "source": [
    "# Plot do gráfico\n",
    "\n",
    "fig = px.histogram(data_frame=df,\n",
    "                    x='state', \n",
    "                    y='number',\n",
    "                    color='estacoes', \n",
    "                    barmode='group', \n",
    "                    histfunc='avg')\n",
    "personalizacao(fig, 'Estados', 'Média de Queimadas', 'Estações')"
   ]
  },
  {
   "cell_type": "code",
   "execution_count": null,
   "metadata": {},
   "outputs": [],
   "source": [
    "\n",
    "fig2 = px.histogram(data_frame=df,\n",
    "                    x='estacoes', \n",
    "                    y='number',\n",
    "                    color='regioes', \n",
    "                    barmode='group', \n",
    "                    histfunc='avg')\n",
    "personalizacao(fig2, 'Estações', 'Média de Queimadas Reportadas por Estado', 'Regiões')"
   ]
  },
  {
   "cell_type": "code",
   "execution_count": null,
   "metadata": {},
   "outputs": [],
   "source": [
    "# Agrupando o número de queimadas total por ano.\n",
    "\n",
    "df_plot = df.groupby('year')['number'].sum().reset_index().sort_values(by= 'year')\n",
    "df_plot.head()"
   ]
  },
  {
   "cell_type": "code",
   "execution_count": null,
   "metadata": {},
   "outputs": [],
   "source": [
    "# Plotando o gráfico de linhas\n",
    "\n",
    "linha = px.line(data_frame=df_plot, x='year', y='number', markers=True, template='plotly_dark')\n",
    "personalizacao(linha, 'Anos', 'Número de Queimadas Registradas', None)"
   ]
  },
  {
   "cell_type": "code",
   "execution_count": null,
   "metadata": {},
   "outputs": [],
   "source": [
    "# Agrupando o número de queimadas por ano e meses.\n",
    "\n",
    "df_plot2 = df.groupby(['year','month','date'])['number'].sum().reset_index().sort_values(by=['date', 'year'])\n",
    "df_plot2.head()"
   ]
  },
  {
   "cell_type": "code",
   "execution_count": null,
   "metadata": {},
   "outputs": [],
   "source": [
    "# Plot do gráfico de linhas\n",
    "\n",
    "lines = px.line(data_frame=df_plot2, x='year', y='number', color = 'month', markers=False, template='plotly_dark')\n",
    "personalizacao(lines, 'Anos', 'Número de Queimadas Registradas', 'Meses')"
   ]
  },
  {
   "cell_type": "code",
   "execution_count": null,
   "metadata": {},
   "outputs": [],
   "source": [
    "# Plot do gráfico de linhas\n",
    "\n",
    "lines2 = px.line(data_frame=df_plot2, x='month', y='number', color = 'year', markers=False, template='plotly_dark')\n",
    "personalizacao(lines2, 'Meses', 'Número de Queimadas Registradas', 'Anos')"
   ]
  }
 ],
 "metadata": {
  "kernelspec": {
   "display_name": "Python 3.10.8 64-bit (microsoft store)",
   "language": "python",
   "name": "python3"
  },
  "language_info": {
   "codemirror_mode": {
    "name": "ipython",
    "version": 3
   },
   "file_extension": ".py",
   "mimetype": "text/x-python",
   "name": "python",
   "nbconvert_exporter": "python",
   "pygments_lexer": "ipython3",
   "version": "3.10.8"
  },
  "orig_nbformat": 4,
  "vscode": {
   "interpreter": {
    "hash": "362cf15728976fc3cdc2739e57a6f2ddf6fd69954ca58d9197abad4c8a1ea9f1"
   }
  }
 },
 "nbformat": 4,
 "nbformat_minor": 2
}
